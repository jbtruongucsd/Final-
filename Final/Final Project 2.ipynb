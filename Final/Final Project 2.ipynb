{
 "cells": [
  {
   "cell_type": "markdown",
   "id": "3fe6eb29",
   "metadata": {},
   "source": [
    "Scientific Question: How have Rab7b and Rab34 diverged over time and how different are their structures?\n",
    "\n",
    "Background: Rabs are small GTPases and essential proteins in cellular transport. They are typicaly vesicle markers and tags which is used for transporting the vesicles they mark. Because of the diverse landscape of cargoes in the cell, there are many Rabs which evolved to reflect that. Somehow, Rabs must have diverged in such a way that they are still specfic. How different are Rab proteins?\n",
    "\n",
    "Hypothesis: If Rab5a and Rab34 have diverged significantly, then their structures should be quite different and phylogenetic analysis should show a large distance.\n",
    "\n",
    "Methods: First I plan to run a MSA on Rab 7b and Rab34 to see how far they've diverged. Their sequences were obtained from Uniprot. Then I will run a MSA on those two and a combination of other Rabs to create a Phylogenetic tree tracing the divergence and evolution of Rab proteins. Once this is done, I will perform homology modeling on these Rabs to see how their structures have changed as well. 3D protein measurements will be done with this model as well as observing specific residues which are modified and infering how that would change interactions. To validate my model, I will compare my results from that of the SWISS Protein Database which will also perform a homology modeling prediction on the Rabs of interest. "
   ]
  },
  {
   "cell_type": "code",
   "execution_count": 29,
   "id": "cad71ee7",
   "metadata": {},
   "outputs": [],
   "source": [
    "#Import Biopython and baseline useful libraries\n",
    "import Bio\n",
    "import numpy as np\n",
    "import pandas as pd\n",
    "import matplotlib.pyplot as plt\n",
    "# Importing libraries for MSA\n",
    "from Bio import AlignIO \n",
    "from Bio import SeqIO\n",
    "from Bio.SeqIO import parse \n",
    "from Bio.SeqRecord import SeqRecord \n",
    "from Bio.Seq import Seq \n",
    "# Importing phylogenetic tree construction libraries\n",
    "from Bio import Phylo\n",
    "from Bio import Phylo, AlignIO\n",
    "from Bio.Phylo.TreeConstruction import DistanceCalculator \n",
    "from Bio.Phylo.TreeConstruction import DistanceTreeConstructor"
   ]
  },
  {
   "cell_type": "code",
   "execution_count": null,
   "id": "d8d952e3",
   "metadata": {},
   "outputs": [],
   "source": [
    "#For Homology Modeling\n",
    "#Need to install: Plotutils, Biggles, Biopython\n",
    "import numpy\n",
    "import biggles\n",
    "import Bio\n",
    "import biskit"
   ]
  },
  {
   "cell_type": "markdown",
   "id": "f24c29d6",
   "metadata": {},
   "source": [
    "Muliple Sequence Alignment\n",
    "Sequence info obtained from UniProt "
   ]
  },
  {
   "cell_type": "code",
   "execution_count": null,
   "id": "fda28c53",
   "metadata": {
    "scrolled": true
   },
   "outputs": [],
   "source": [
    "# Performs MSA on Rab7 and 34 Reads Fasta\n",
    "alignments = AlignIO.parse(open(\"Hooks.txt\"), \"fasta\")\n",
    "print(alignments) \n",
    "for alignment in alignments: \n",
    "    print(alignment)"
   ]
  },
  {
   "cell_type": "code",
   "execution_count": null,
   "id": "28137510",
   "metadata": {},
   "outputs": [],
   "source": [
    "#Takes alignment of sequences and creates phylogenetic tree Reads Fasta, from Biopython\n",
    "align = AlignIO.read(\"Hooks.txt\",'fasta', seq_count=3)\n",
    "print(align)\n",
    "calculator = DistanceCalculator('identity')\n",
    "distMatrix = calculator.get_distance(align)\n",
    "print(distMatrix)\n",
    "Phylo.draw(UPGMATree)"
   ]
  },
  {
   "cell_type": "code",
   "execution_count": null,
   "id": "25dafc54",
   "metadata": {},
   "outputs": [],
   "source": [
    "#Homology modeling and 3D measurements\n",
    "# Reads Fasta and produces models\n",
    "search_sequences.py[\"Rab7b.txt\", \"Model\"]\n",
    "search_templates.py[\"Rab7b.txt\", \"Model\"]\n",
    "clean_templates.py[\"Rab7b.txt\", \"Model\"]\n",
    "search_sequences.py[\"Rab34.txt\", \"Model\"]\n",
    "search_templates.py[\"Rab34.txt\", \"Model\"]\n",
    "clean_templates.py[\"Rab34.txt\", \"Model\"]\n",
    "#Creates alignments and models of file\n",
    "align.py[\"Model\"]\n",
    "model.py[\"Model\"]"
   ]
  }
 ],
 "metadata": {
  "kernelspec": {
   "display_name": "Python 3 (ipykernel)",
   "language": "python",
   "name": "python3"
  },
  "language_info": {
   "codemirror_mode": {
    "name": "ipython",
    "version": 3
   },
   "file_extension": ".py",
   "mimetype": "text/x-python",
   "name": "python",
   "nbconvert_exporter": "python",
   "pygments_lexer": "ipython3",
   "version": "3.9.7"
  }
 },
 "nbformat": 4,
 "nbformat_minor": 5
}
